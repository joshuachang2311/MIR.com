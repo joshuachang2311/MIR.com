{
 "cells": [
  {
   "cell_type": "markdown",
   "metadata": {},
   "source": [
    "# About *Fundamentals of Music Processing*"
   ]
  },
  {
   "cell_type": "markdown",
   "metadata": {},
   "source": [
    "<img src=\"https://images-na.ssl-images-amazon.com/images/I/51q5YtafVsL.jpg\">"
   ]
  },
  {
   "cell_type": "markdown",
   "metadata": {
    "collapsed": true
   },
   "source": [
    "The book [*Fundamentals of Music Processing*](https://www.audiolabs-erlangen.de/fau/professor/mueller/bookFMP) (FMP)  is a textbook by [Meinard Müller](https://www.audiolabs-erlangen.de/fau/professor/mueller), a well-known and prolific researcher in MIR, and published by Springer in 2015.\n",
    "\n",
    "For many years, the field of music information retrieval has suffered from a lack of consolidated texts which unify its many disparate topics. Until now, students and researchers have had to learn about MIR mostly by reading the original research papers -- a daunting task. FMP is perhaps the best attempt to address this issue. It is a self-contained textbook which covers many MIR tasks such as feature extraction, audio-to-score alignment, musical form and structure, chord recognition, beat tracking, fingerprinting, and source separation.\n",
    "\n",
    "We integrated content from FMP into musicinformationretrieval.com in 2016."
   ]
  },
  {
   "cell_type": "markdown",
   "metadata": {},
   "source": [
    "## Slides"
   ]
  },
  {
   "cell_type": "markdown",
   "metadata": {},
   "source": [
    "Created by Meinard Müller. Posted here on 2018 June 30 with permission from Meinard Müller."
   ]
  },
  {
   "cell_type": "markdown",
   "metadata": {},
   "source": [
    "- [Introduction](https://s3-us-west-2.amazonaws.com/musicinformationretrieval.com/slides/mueller_introduction.pdf)\n",
    "- [Music Representations](https://s3-us-west-2.amazonaws.com/musicinformationretrieval.com/slides/mueller_music_representations.pdf)\n",
    "- [Audio Features](https://s3-us-west-2.amazonaws.com/musicinformationretrieval.com/slides/mueller_audio_features.pdf)\n",
    "- [Music Synchronization](https://s3-us-west-2.amazonaws.com/musicinformationretrieval.com/slides/mueller_music_sync.pdf)\n",
    "- [Music Structure Analysis](https://s3-us-west-2.amazonaws.com/musicinformationretrieval.com/slides/mueller_music_structure.pdf)\n",
    "- [Tempo and Beat Tracking](https://s3-us-west-2.amazonaws.com/musicinformationretrieval.com/slides/mueller_beat_tracking.pdf)\n",
    "- [Audio Retrieval](https://s3-us-west-2.amazonaws.com/musicinformationretrieval.com/slides/mueller_audio_retrieval.pdf)\n",
    "- [Audio Decomposition](https://s3-us-west-2.amazonaws.com/musicinformationretrieval.com/slides/mueller_audio_decomposition.pdf)"
   ]
  }
 ],
 "metadata": {
  "kernelspec": {
   "display_name": "Python 3",
   "language": "python",
   "name": "python3"
  },
  "language_info": {
   "codemirror_mode": {
    "name": "ipython",
    "version": 3
   },
   "file_extension": ".py",
   "mimetype": "text/x-python",
   "name": "python",
   "nbconvert_exporter": "python",
   "pygments_lexer": "ipython3",
   "version": "3.6.8"
  }
 },
 "nbformat": 4,
 "nbformat_minor": 1
}
