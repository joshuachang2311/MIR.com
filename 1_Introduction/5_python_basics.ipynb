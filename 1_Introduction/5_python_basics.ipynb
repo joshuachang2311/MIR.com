{
 "cells": [
  {
   "cell_type": "markdown",
   "metadata": {},
   "source": [
    "# Python Basics and Dependencies"
   ]
  },
  {
   "cell_type": "markdown",
   "metadata": {},
   "source": [
    "## Why Python?"
   ]
  },
  {
   "cell_type": "markdown",
   "metadata": {},
   "source": [
    "[Python](https://python.org) is a general-purpose programming language that is popular and easy to use. For new programmers, it is a great choice as a first programming language. In fact, more and more university CS departments are centering their introductory courses around Python.\n",
    "\n",
    "For a summary of reasons to move from Matlab to Python, please read [this post](https://stevetjoa.com/305).\n",
    "\n",
    "This page on [Udacity](https://www.udacity.com/programming-languages/python) provides some more great reasons to use Python, along with resources for getting started."
   ]
  },
  {
   "cell_type": "markdown",
   "metadata": {},
   "source": [
    "## Tutorial"
   ]
  },
  {
   "cell_type": "markdown",
   "metadata": {},
   "source": [
    "If you are new to Python, please follow [The Python Tutorial](https://docs.python.org/2/tutorial/index.html).\n",
    "\n",
    "For the purposes of this workshop, be sure you understand the following sections:\n",
    "\n",
    "- Section 3: An Informal Introduction to Python\n",
    "    - numbers: `int`, `float`\n",
    "    - strings\n",
    "    - lists\n",
    "- Section 4: More Control Flow Tools\n",
    "    - `if` statements\n",
    "    - `for` statements\n",
    "    - `range`\n",
    "    - functions\n",
    "- Section 5: Data Structures\n",
    "    - list comprehensions\n",
    "    - tuples\n",
    "    - dictionaries\n",
    "    - looping techniques\n",
    "\n",
    "While the other sections are useful, you can learn them along the way."
   ]
  },
  {
   "cell_type": "markdown",
   "metadata": {},
   "source": [
    "## Package Installation"
   ]
  },
  {
   "cell_type": "markdown",
   "metadata": {},
   "source": [
    "To follow the material on this site, you will need to install additional Python packages.\n",
    "\n",
    "Follow the instructions on the [GitHub repository `README`](https://github.com/stevetjoa/stanford-mir#how-to-use-this-repo).\n",
    "\n",
    "1.  If you’re totally new, the simplest solution is to download and install [Anaconda for Python 3.x](https://www.continuum.io/downloads). \n",
    "    \n",
    "2.  Install [librosa](https://librosa.github.io/librosa/install.html) and [ffmpeg](https://librosa.github.io/librosa/install.html#ffmpeg)."
   ]
  },
  {
   "cell_type": "markdown",
   "metadata": {},
   "source": [
    "You will also probably want to [install pip](https://pip.pypa.io/en/stable/installing/). pip is the recommended tool for installing most other Python packages."
   ]
  },
  {
   "cell_type": "markdown",
   "metadata": {},
   "source": [
    "## Library Dependencies"
   ]
  },
  {
   "cell_type": "markdown",
   "metadata": {},
   "source": [
    "[2018 March 12] These notebooks reflect the following package versions:\n",
    "\n",
    "-   numpy 1.14.2\n",
    "-   scipy 1.0.0\n",
    "-   matplotlib 2.2.0\n",
    "-   ipython 6.2.1\n",
    "-   jupyter 1.0.0\n",
    "-   librosa 0.6.0\n",
    "-   scikit-learn 0.19.1\n",
    "-   pandas 0.22.0\n",
    "\n"
   ]
  },
  {
   "cell_type": "markdown",
   "metadata": {},
   "source": [
    "## More Learning Resources"
   ]
  },
  {
   "cell_type": "markdown",
   "metadata": {},
   "source": [
    "-   [The Hitchhiker's Guide to Python](http://docs.python-guide.org/en/latest/)\n",
    "-   [SciPy Lecture Notes](http://www.scipy-lectures.org/)\n",
    "-   [Codecademy](http://www.codecademy.com/en/tracks/python)\n",
    "-   [learnpython.org](http://www.learnpython.org/)"
   ]
  }
 ],
 "metadata": {
  "kernelspec": {
   "display_name": "Python 3",
   "language": "python",
   "name": "python3"
  },
  "language_info": {
   "codemirror_mode": {
    "name": "ipython",
    "version": 3
   },
   "file_extension": ".py",
   "mimetype": "text/x-python",
   "name": "python",
   "nbconvert_exporter": "python",
   "pygments_lexer": "ipython3",
   "version": "3.6.8"
  }
 },
 "nbformat": 4,
 "nbformat_minor": 1
}
