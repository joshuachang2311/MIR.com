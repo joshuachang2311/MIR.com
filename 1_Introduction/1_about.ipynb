{
 "cells": [
  {
   "cell_type": "markdown",
   "metadata": {},
   "source": [
    "# About This Site"
   ]
  },
  {
   "cell_type": "markdown",
   "metadata": {},
   "source": [
    "**musicinformationretrieval.com** is a collection of instructional materials for music information retrieval (MIR). These materials contain a mix of casual conversation, technical discussion, and Python code. \n",
    "\n",
    "These pages, including the one you're reading, are authored using [Jupyter notebooks](http://jupyter.org/). They are statically hosted using [GitHub Pages](https://pages.github.com/). The GitHub repository is found here: [stevetjoa/musicinformationretrieval.com](https://github.com/stevetjoa/musicinformationretrieval.com).\n",
    "\n",
    "This site is maintained by [Steve Tjoa](https://stevetjoa.com). For questions, please email [steve@musicinformationretrieval.com](mailto:steve@musicinformationretrieval.com). Do you have any feedback? Did you find errors or typos? Are you a teacher or researcher and would like to collaborate? Please let me know."
   ]
  },
  {
   "cell_type": "markdown",
   "metadata": {},
   "source": [
    "## People who use this site"
   ]
  },
  {
   "cell_type": "markdown",
   "metadata": {},
   "source": [
    "- CSU Monterey Bay, [Jeffrey Treviño](https://csumb.edu/directory/people/jeffrey-trevino)\n",
    "- International Audio Laboratories Erlangen, [Meinard Müller](https://www.audiolabs-erlangen.de/fau/professor/mueller) (author, [Fundamentals of Music Processing](http://www.music-processing.de), Springer, 2015)\n",
    "- San Jose State University, CS185C - Topics on Music Information Retrieval, Vidya Rangasayee\n",
    "- Stanford University, [Music 364: Data-Driven Research in Music Cognition](https://ccrma.stanford.edu/courses/364/), [Blair Kaneshiro](https://ccrma.stanford.edu/~blairbo/)\n",
    "- MIT, [21M.359: Fundamentals of Music Processing](http://musictech.mit.edu/fmp), [Eran Egozy](http://mta.mit.edu/person/eran-egozy)\n",
    "- Harvard University, Freshman Seminar 24e: The Physics and Applied Physics Freshman Research Laboratory\n",
    "- Haverford College"
   ]
  },
  {
   "cell_type": "markdown",
   "metadata": {},
   "source": [
    "## Contributors to this GitHub repo"
   ]
  },
  {
   "cell_type": "markdown",
   "metadata": {},
   "source": [
    "- Leigh Smith\n",
    "- Owen Campbell\n",
    "- Mark Goldstein\n",
    "- Sudara"
   ]
  }
 ],
 "metadata": {
  "kernelspec": {
   "display_name": "Python 3",
   "language": "python",
   "name": "python3"
  },
  "language_info": {
   "codemirror_mode": {
    "name": "ipython",
    "version": 3
   },
   "file_extension": ".py",
   "mimetype": "text/x-python",
   "name": "python",
   "nbconvert_exporter": "python",
   "pygments_lexer": "ipython3",
   "version": "3.6.8"
  }
 },
 "nbformat": 4,
 "nbformat_minor": 1
}
