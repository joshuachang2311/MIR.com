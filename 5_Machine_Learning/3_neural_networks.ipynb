{
 "cells": [
  {
   "cell_type": "code",
   "execution_count": 1,
   "metadata": {
    "tags": [
     "hide_cell"
    ]
   },
   "outputs": [
    {
     "name": "stderr",
     "output_type": "stream",
     "text": [
      "Using TensorFlow backend.\n"
     ]
    }
   ],
   "source": [
    "%matplotlib inline\n",
    "import warnings\n",
    "warnings.filterwarnings(\"ignore\")\n",
    "import matplotlib.pyplot as plt\n",
    "plt.rcParams['figure.figsize'] = (14, 6)\n",
    "import librosa, IPython.display as ipd, time, keras, numpy\n",
    "from scipy.special import expit\n"
   ]
  },
  {
   "cell_type": "code",
   "execution_count": 2,
   "metadata": {
    "tags": [
     "hide_cell"
    ]
   },
   "outputs": [],
   "source": [
    "plt.style.use('seaborn-muted')\n",
    "plt.rcParams['figure.figsize'] = (14, 5)\n",
    "plt.rcParams['axes.grid'] = True\n",
    "plt.rcParams['axes.spines.left'] = False\n",
    "plt.rcParams['axes.spines.right'] = False\n",
    "plt.rcParams['axes.spines.bottom'] = False\n",
    "plt.rcParams['axes.spines.top'] = False\n",
    "plt.rcParams['axes.xmargin'] = 0\n",
    "plt.rcParams['axes.ymargin'] = 0\n",
    "plt.rcParams['image.cmap'] = 'gray'\n",
    "plt.rcParams['image.interpolation'] = None"
   ]
  },
  {
   "cell_type": "markdown",
   "metadata": {},
   "source": [
    "[&larr; Back to Index](index.html)"
   ]
  },
  {
   "cell_type": "markdown",
   "metadata": {},
   "source": [
    "# Neural Networks"
   ]
  },
  {
   "cell_type": "markdown",
   "metadata": {},
   "source": [
    "Neural networks are a category of machine learning models which have seen a resurgence since 2006. *Deep learning* is the recent area of machine learning which combines many neuron layers (e.g. 20, 50, or more) to form a \"deep\" neural network. In doing so, a deep neural network can accomplish sophisticated classification tasks that classical machine learning models would find difficult."
   ]
  },
  {
   "cell_type": "markdown",
   "metadata": {},
   "source": [
    "## Keras"
   ]
  },
  {
   "cell_type": "markdown",
   "metadata": {},
   "source": [
    "Keras is a Python package for deep learning which provides an easy-to-use layer of abstraction on top of Theano and Tensorflow."
   ]
  },
  {
   "cell_type": "markdown",
   "metadata": {},
   "source": [
    "Import Keras objects:"
   ]
  },
  {
   "cell_type": "code",
   "execution_count": 3,
   "metadata": {},
   "outputs": [],
   "source": [
    "from keras.models import Sequential\n",
    "from keras.layers.core import Dense\n",
    "import keras.optimizers"
   ]
  },
  {
   "cell_type": "markdown",
   "metadata": {},
   "source": [
    "Create a neural network architecture by layering neurons. Define the number of neurons in each layer and their activation functions:"
   ]
  },
  {
   "cell_type": "code",
   "execution_count": 4,
   "metadata": {},
   "outputs": [],
   "source": [
    "model = Sequential()\n",
    "model.add(Dense(4, activation='relu', input_dim=2))\n",
    "model.add(Dense(4, activation='relu'))\n",
    "model.add(Dense(2, activation='softmax'))"
   ]
  },
  {
   "cell_type": "markdown",
   "metadata": {},
   "source": [
    "Choose the optimizer, i.e. the update rule that the neural network will use to train:"
   ]
  },
  {
   "cell_type": "code",
   "execution_count": 5,
   "metadata": {},
   "outputs": [],
   "source": [
    "optimizer = keras.optimizers.SGD(decay=0.001, momentum=0.99)"
   ]
  },
  {
   "cell_type": "markdown",
   "metadata": {},
   "source": [
    "Compile the model, i.e. create the low-level code that the CPU or GPU will actually use for its calculations during training and testing:"
   ]
  },
  {
   "cell_type": "code",
   "execution_count": 6,
   "metadata": {},
   "outputs": [],
   "source": [
    "model.compile(loss='binary_crossentropy', optimizer=optimizer)"
   ]
  },
  {
   "cell_type": "markdown",
   "metadata": {},
   "source": [
    "## Example: XOR"
   ]
  },
  {
   "cell_type": "markdown",
   "metadata": {},
   "source": [
    "The operation XOR is defined as: `XOR(x, y) = 1 if x != y else 0`"
   ]
  },
  {
   "cell_type": "markdown",
   "metadata": {},
   "source": [
    "Synthesize training data for the XOR problem."
   ]
  },
  {
   "cell_type": "code",
   "execution_count": 7,
   "metadata": {},
   "outputs": [
    {
     "name": "stdout",
     "output_type": "stream",
     "text": [
      "(10000, 2)\n"
     ]
    }
   ],
   "source": [
    "X_train = numpy.random.randn(10000, 2)\n",
    "print(X_train.shape)"
   ]
  },
  {
   "cell_type": "code",
   "execution_count": 8,
   "metadata": {},
   "outputs": [
    {
     "name": "stdout",
     "output_type": "stream",
     "text": [
      "[[ 0.42128999  0.41729839]\n",
      " [ 0.41792333  1.47336136]\n",
      " [ 0.42125759 -2.28450677]\n",
      " [ 1.08729453  0.51543248]\n",
      " [-1.11614025  0.97745119]]\n"
     ]
    }
   ],
   "source": [
    "print(X_train[:5])"
   ]
  },
  {
   "cell_type": "markdown",
   "metadata": {},
   "source": [
    "Create target labels for the training data."
   ]
  },
  {
   "cell_type": "code",
   "execution_count": 9,
   "metadata": {},
   "outputs": [
    {
     "name": "stdout",
     "output_type": "stream",
     "text": [
      "(10000, 2)\n"
     ]
    }
   ],
   "source": [
    "y_train = numpy.array([\n",
    "    [float(x[0]*x[1] > 0), float(x[0]*x[1] <= 0)]\n",
    "    for x in X_train\n",
    "])\n",
    "print(y_train.shape)"
   ]
  },
  {
   "cell_type": "code",
   "execution_count": 10,
   "metadata": {},
   "outputs": [
    {
     "data": {
      "text/plain": [
       "array([[1., 0.],\n",
       "       [1., 0.],\n",
       "       [0., 1.],\n",
       "       [1., 0.],\n",
       "       [0., 1.]])"
      ]
     },
     "execution_count": 10,
     "metadata": {},
     "output_type": "execute_result"
    }
   ],
   "source": [
    "y_train[:5]"
   ]
  },
  {
   "cell_type": "markdown",
   "metadata": {},
   "source": [
    "Plot the training data:"
   ]
  },
  {
   "cell_type": "code",
   "execution_count": 11,
   "metadata": {
    "tags": [
     "hide_input"
    ]
   },
   "outputs": [
    {
     "data": {
      "text/plain": [
       "<matplotlib.collections.PathCollection at 0x11b9c6588>"
      ]
     },
     "execution_count": 11,
     "metadata": {},
     "output_type": "execute_result"
    },
    {
     "data": {
      "image/png": "[encoded data removed]",
      "text/plain": [
       "<Figure size 648x360 with 1 Axes>"
      ]
     },
     "metadata": {},
     "output_type": "display_data"
    }
   ],
   "source": [
    "plt.figure(figsize=(9, 5))\n",
    "plt.scatter(X_train[y_train[:,0]>0.5,0], X_train[y_train[:,0]>0.5,1], c='r', s=1)\n",
    "plt.scatter(X_train[y_train[:,1]>0.5,0], X_train[y_train[:,1]>0.5,1], c='b', s=1)"
   ]
  },
  {
   "cell_type": "markdown",
   "metadata": {},
   "source": [
    "Finally, train the model!"
   ]
  },
  {
   "cell_type": "code",
   "execution_count": 12,
   "metadata": {
    "tags": [
     "hide_output"
    ]
   },
   "outputs": [
    {
     "name": "stdout",
     "output_type": "stream",
     "text": [
      "Epoch 1/200\n",
      "10000/10000 [==============================] - 0s 27us/step - loss: 0.5036\n",
      "Epoch 2/200\n",
      "10000/10000 [==============================] - 0s 9us/step - loss: 0.1147\n",
      "Epoch 3/200\n",
      "10000/10000 [==============================] - 0s 10us/step - loss: 0.0536\n",
      "Epoch 4/200\n",
      "10000/10000 [==============================] - 0s 9us/step - loss: 0.0644\n",
      "Epoch 5/200\n",
      "10000/10000 [==============================] - 0s 10us/step - loss: 0.3345\n",
      "Epoch 6/200\n",
      "10000/10000 [==============================] - 0s 10us/step - loss: 0.3267\n",
      "Epoch 7/200\n",
      "10000/10000 [==============================] - 0s 9us/step - loss: 0.2020\n",
      "Epoch 8/200\n",
      "10000/10000 [==============================] - 0s 9us/step - loss: 0.1085\n",
      "Epoch 9/200\n",
      "10000/10000 [==============================] - 0s 10us/step - loss: 0.0752\n",
      "Epoch 10/200\n",
      "10000/10000 [==============================] - 0s 9us/step - loss: 0.0495\n",
      "Epoch 11/200\n",
      "10000/10000 [==============================] - 0s 9us/step - loss: 0.0354\n",
      "Epoch 12/200\n",
      "10000/10000 [==============================] - 0s 9us/step - loss: 0.0244\n",
      "Epoch 13/200\n",
      "10000/10000 [==============================] - 0s 9us/step - loss: 0.0178\n",
      "Epoch 14/200\n",
      "10000/10000 [==============================] - 0s 10us/step - loss: 0.0162\n",
      "Epoch 15/200\n",
      "10000/10000 [==============================] - 0s 9us/step - loss: 0.0215\n",
      "Epoch 16/200\n",
      "10000/10000 [==============================] - 0s 9us/step - loss: 0.0242\n",
      "Epoch 17/200\n",
      "10000/10000 [==============================] - 0s 10us/step - loss: 0.0158\n",
      "Epoch 18/200\n",
      "10000/10000 [==============================] - 0s 10us/step - loss: 0.0152\n",
      "Epoch 19/200\n",
      "10000/10000 [==============================] - 0s 9us/step - loss: 0.0199\n",
      "Epoch 20/200\n",
      "10000/10000 [==============================] - 0s 9us/step - loss: 0.0293\n",
      "Epoch 21/200\n",
      "10000/10000 [==============================] - 0s 10us/step - loss: 0.0305\n",
      "Epoch 22/200\n",
      "10000/10000 [==============================] - 0s 9us/step - loss: 0.0210\n",
      "Epoch 23/200\n",
      "10000/10000 [==============================] - 0s 10us/step - loss: 0.0180\n",
      "Epoch 24/200\n",
      "10000/10000 [==============================] - 0s 10us/step - loss: 0.0144\n",
      "Epoch 25/200\n",
      "10000/10000 [==============================] - 0s 9us/step - loss: 0.0142\n",
      "Epoch 26/200\n",
      "10000/10000 [==============================] - 0s 10us/step - loss: 0.0134\n",
      "Epoch 27/200\n",
      "10000/10000 [==============================] - 0s 10us/step - loss: 0.0138\n",
      "Epoch 28/200\n",
      "10000/10000 [==============================] - 0s 9us/step - loss: 0.0115\n",
      "Epoch 29/200\n",
      "10000/10000 [==============================] - 0s 9us/step - loss: 0.0121\n",
      "Epoch 30/200\n",
      "10000/10000 [==============================] - 0s 9us/step - loss: 0.0121\n",
      "Epoch 31/200\n",
      "10000/10000 [==============================] - 0s 10us/step - loss: 0.0206\n",
      "Epoch 32/200\n",
      "10000/10000 [==============================] - 0s 9us/step - loss: 0.0213\n",
      "Epoch 33/200\n",
      "10000/10000 [==============================] - 0s 10us/step - loss: 0.0285\n",
      "Epoch 34/200\n",
      "10000/10000 [==============================] - 0s 10us/step - loss: 0.0229\n",
      "Epoch 35/200\n",
      "10000/10000 [==============================] - 0s 10us/step - loss: 0.0154\n",
      "Epoch 36/200\n",
      "10000/10000 [==============================] - 0s 10us/step - loss: 0.0148\n",
      "Epoch 37/200\n",
      "10000/10000 [==============================] - 0s 10us/step - loss: 0.0133\n",
      "Epoch 38/200\n",
      "10000/10000 [==============================] - 0s 10us/step - loss: 0.0142\n",
      "Epoch 39/200\n",
      "10000/10000 [==============================] - 0s 9us/step - loss: 0.0154\n",
      "Epoch 40/200\n",
      "10000/10000 [==============================] - 0s 10us/step - loss: 0.0227\n",
      "Epoch 41/200\n",
      "10000/10000 [==============================] - 0s 9us/step - loss: 0.0186\n",
      "Epoch 42/200\n",
      "10000/10000 [==============================] - 0s 9us/step - loss: 0.0282\n",
      "Epoch 43/200\n",
      "10000/10000 [==============================] - 0s 10us/step - loss: 0.0225\n",
      "Epoch 44/200\n",
      "10000/10000 [==============================] - 0s 9us/step - loss: 0.0137\n",
      "Epoch 45/200\n",
      "10000/10000 [==============================] - 0s 10us/step - loss: 0.0121\n",
      "Epoch 46/200\n",
      "10000/10000 [==============================] - 0s 10us/step - loss: 0.0103\n",
      "Epoch 47/200\n",
      "10000/10000 [==============================] - 0s 10us/step - loss: 0.0155\n",
      "Epoch 48/200\n",
      "10000/10000 [==============================] - 0s 10us/step - loss: 0.0195\n",
      "Epoch 49/200\n",
      "10000/10000 [==============================] - 0s 9us/step - loss: 0.0175\n",
      "Epoch 50/200\n",
      "10000/10000 [==============================] - 0s 10us/step - loss: 0.0145\n",
      "Epoch 51/200\n",
      "10000/10000 [==============================] - 0s 10us/step - loss: 0.0128\n",
      "Epoch 52/200\n",
      "10000/10000 [==============================] - 0s 10us/step - loss: 0.0106\n",
      "Epoch 53/200\n",
      "10000/10000 [==============================] - 0s 11us/step - loss: 0.0099\n",
      "Epoch 54/200\n",
      "10000/10000 [==============================] - 0s 9us/step - loss: 0.0096\n",
      "Epoch 55/200\n",
      "10000/10000 [==============================] - 0s 9us/step - loss: 0.0093\n",
      "Epoch 56/200\n",
      "10000/10000 [==============================] - 0s 9us/step - loss: 0.0089\n",
      "Epoch 57/200\n",
      "10000/10000 [==============================] - 0s 9us/step - loss: 0.0088\n",
      "Epoch 58/200\n",
      "10000/10000 [==============================] - 0s 10us/step - loss: 0.0086\n",
      "Epoch 59/200\n",
      "10000/10000 [==============================] - 0s 9us/step - loss: 0.0119\n",
      "Epoch 60/200\n",
      "10000/10000 [==============================] - 0s 9us/step - loss: 0.0109\n",
      "Epoch 61/200\n",
      "10000/10000 [==============================] - 0s 9us/step - loss: 0.0111\n",
      "Epoch 62/200\n",
      "10000/10000 [==============================] - 0s 9us/step - loss: 0.0185\n",
      "Epoch 63/200\n",
      "10000/10000 [==============================] - 0s 9us/step - loss: 0.0139\n",
      "Epoch 64/200\n",
      "10000/10000 [==============================] - 0s 9us/step - loss: 0.0132\n",
      "Epoch 65/200\n",
      "10000/10000 [==============================] - 0s 10us/step - loss: 0.0105\n",
      "Epoch 66/200\n",
      "10000/10000 [==============================] - 0s 9us/step - loss: 0.0105\n",
      "Epoch 67/200\n",
      "10000/10000 [==============================] - 0s 9us/step - loss: 0.0119\n",
      "Epoch 68/200\n",
      "10000/10000 [==============================] - 0s 9us/step - loss: 0.0106\n",
      "Epoch 69/200\n",
      "10000/10000 [==============================] - 0s 9us/step - loss: 0.0102\n",
      "Epoch 70/200\n",
      "10000/10000 [==============================] - 0s 10us/step - loss: 0.0088\n",
      "Epoch 71/200\n",
      "10000/10000 [==============================] - 0s 10us/step - loss: 0.0084\n",
      "Epoch 72/200\n",
      "10000/10000 [==============================] - 0s 10us/step - loss: 0.0103\n",
      "Epoch 73/200\n",
      "10000/10000 [==============================] - 0s 9us/step - loss: 0.0114\n",
      "Epoch 74/200\n",
      "10000/10000 [==============================] - 0s 10us/step - loss: 0.0110\n",
      "Epoch 75/200\n",
      "10000/10000 [==============================] - 0s 9us/step - loss: 0.0095\n",
      "Epoch 76/200\n",
      "10000/10000 [==============================] - 0s 9us/step - loss: 0.0116\n",
      "Epoch 77/200\n",
      "10000/10000 [==============================] - 0s 9us/step - loss: 0.0087\n",
      "Epoch 78/200\n",
      "10000/10000 [==============================] - 0s 10us/step - loss: 0.0087\n",
      "Epoch 79/200\n",
      "10000/10000 [==============================] - 0s 9us/step - loss: 0.0080\n",
      "Epoch 80/200\n",
      "10000/10000 [==============================] - 0s 9us/step - loss: 0.0105\n",
      "Epoch 81/200\n",
      "10000/10000 [==============================] - 0s 10us/step - loss: 0.0092\n",
      "Epoch 82/200\n",
      "10000/10000 [==============================] - 0s 9us/step - loss: 0.0088\n",
      "Epoch 83/200\n",
      "10000/10000 [==============================] - 0s 10us/step - loss: 0.0086\n",
      "Epoch 84/200\n",
      "10000/10000 [==============================] - 0s 9us/step - loss: 0.0087\n",
      "Epoch 85/200\n",
      "10000/10000 [==============================] - 0s 10us/step - loss: 0.0087\n",
      "Epoch 86/200\n",
      "10000/10000 [==============================] - 0s 10us/step - loss: 0.0090\n",
      "Epoch 87/200\n",
      "10000/10000 [==============================] - 0s 10us/step - loss: 0.0069\n",
      "Epoch 88/200\n",
      "10000/10000 [==============================] - 0s 9us/step - loss: 0.0076\n",
      "Epoch 89/200\n",
      "10000/10000 [==============================] - 0s 9us/step - loss: 0.0082\n",
      "Epoch 90/200\n",
      "10000/10000 [==============================] - 0s 10us/step - loss: 0.0081\n",
      "Epoch 91/200\n",
      "10000/10000 [==============================] - 0s 10us/step - loss: 0.0081\n",
      "Epoch 92/200\n",
      "10000/10000 [==============================] - 0s 10us/step - loss: 0.0076\n",
      "Epoch 93/200\n",
      "10000/10000 [==============================] - 0s 10us/step - loss: 0.0082\n",
      "Epoch 94/200\n"
     ]
    },
    {
     "name": "stdout",
     "output_type": "stream",
     "text": [
      "10000/10000 [==============================] - 0s 10us/step - loss: 0.0072\n",
      "Epoch 95/200\n",
      "10000/10000 [==============================] - 0s 9us/step - loss: 0.0072\n",
      "Epoch 96/200\n",
      "10000/10000 [==============================] - 0s 9us/step - loss: 0.0090\n",
      "Epoch 97/200\n",
      "10000/10000 [==============================] - 0s 9us/step - loss: 0.0073\n",
      "Epoch 98/200\n",
      "10000/10000 [==============================] - 0s 9us/step - loss: 0.0071\n",
      "Epoch 99/200\n",
      "10000/10000 [==============================] - 0s 9us/step - loss: 0.0068\n",
      "Epoch 100/200\n",
      "10000/10000 [==============================] - 0s 9us/step - loss: 0.0075\n",
      "Epoch 101/200\n",
      "10000/10000 [==============================] - 0s 9us/step - loss: 0.0070\n",
      "Epoch 102/200\n",
      "10000/10000 [==============================] - 0s 9us/step - loss: 0.0079\n",
      "Epoch 103/200\n",
      "10000/10000 [==============================] - 0s 9us/step - loss: 0.0078\n",
      "Epoch 104/200\n",
      "10000/10000 [==============================] - 0s 9us/step - loss: 0.0074\n",
      "Epoch 105/200\n",
      "10000/10000 [==============================] - 0s 9us/step - loss: 0.0067\n",
      "Epoch 106/200\n",
      "10000/10000 [==============================] - 0s 9us/step - loss: 0.0066\n",
      "Epoch 107/200\n",
      "10000/10000 [==============================] - 0s 9us/step - loss: 0.0072\n",
      "Epoch 108/200\n",
      "10000/10000 [==============================] - 0s 9us/step - loss: 0.0085\n",
      "Epoch 109/200\n",
      "10000/10000 [==============================] - 0s 9us/step - loss: 0.0070\n",
      "Epoch 110/200\n",
      "10000/10000 [==============================] - 0s 9us/step - loss: 0.0072\n",
      "Epoch 111/200\n",
      "10000/10000 [==============================] - 0s 9us/step - loss: 0.0083\n",
      "Epoch 112/200\n",
      "10000/10000 [==============================] - 0s 9us/step - loss: 0.0085\n",
      "Epoch 113/200\n",
      "10000/10000 [==============================] - 0s 10us/step - loss: 0.0073\n",
      "Epoch 114/200\n",
      "10000/10000 [==============================] - 0s 10us/step - loss: 0.0087\n",
      "Epoch 115/200\n",
      "10000/10000 [==============================] - 0s 9us/step - loss: 0.0097\n",
      "Epoch 116/200\n",
      "10000/10000 [==============================] - 0s 9us/step - loss: 0.0068\n",
      "Epoch 117/200\n",
      "10000/10000 [==============================] - 0s 9us/step - loss: 0.0067\n",
      "Epoch 118/200\n",
      "10000/10000 [==============================] - 0s 9us/step - loss: 0.0078\n",
      "Epoch 119/200\n",
      "10000/10000 [==============================] - 0s 9us/step - loss: 0.0086\n",
      "Epoch 120/200\n",
      "10000/10000 [==============================] - 0s 9us/step - loss: 0.0070\n",
      "Epoch 121/200\n",
      "10000/10000 [==============================] - 0s 9us/step - loss: 0.0063\n",
      "Epoch 122/200\n",
      "10000/10000 [==============================] - 0s 10us/step - loss: 0.0067\n",
      "Epoch 123/200\n",
      "10000/10000 [==============================] - 0s 9us/step - loss: 0.0073\n",
      "Epoch 124/200\n",
      "10000/10000 [==============================] - 0s 9us/step - loss: 0.0084\n",
      "Epoch 125/200\n",
      "10000/10000 [==============================] - 0s 9us/step - loss: 0.0087\n",
      "Epoch 126/200\n",
      "10000/10000 [==============================] - 0s 9us/step - loss: 0.0087\n",
      "Epoch 127/200\n",
      "10000/10000 [==============================] - 0s 9us/step - loss: 0.0092\n",
      "Epoch 128/200\n",
      "10000/10000 [==============================] - 0s 9us/step - loss: 0.0070\n",
      "Epoch 129/200\n",
      "10000/10000 [==============================] - 0s 9us/step - loss: 0.0064\n",
      "Epoch 130/200\n",
      "10000/10000 [==============================] - 0s 9us/step - loss: 0.0058\n",
      "Epoch 131/200\n",
      "10000/10000 [==============================] - 0s 9us/step - loss: 0.0062\n",
      "Epoch 132/200\n",
      "10000/10000 [==============================] - 0s 9us/step - loss: 0.0097\n",
      "Epoch 133/200\n",
      "10000/10000 [==============================] - 0s 9us/step - loss: 0.0105\n",
      "Epoch 134/200\n",
      "10000/10000 [==============================] - 0s 9us/step - loss: 0.0081\n",
      "Epoch 135/200\n",
      "10000/10000 [==============================] - 0s 9us/step - loss: 0.0087\n",
      "Epoch 136/200\n",
      "10000/10000 [==============================] - 0s 9us/step - loss: 0.0068\n",
      "Epoch 137/200\n",
      "10000/10000 [==============================] - 0s 9us/step - loss: 0.0063\n",
      "Epoch 138/200\n",
      "10000/10000 [==============================] - 0s 10us/step - loss: 0.0062\n",
      "Epoch 139/200\n",
      "10000/10000 [==============================] - 0s 9us/step - loss: 0.0060\n",
      "Epoch 140/200\n",
      "10000/10000 [==============================] - 0s 9us/step - loss: 0.0063\n",
      "Epoch 141/200\n",
      "10000/10000 [==============================] - 0s 9us/step - loss: 0.0071\n",
      "Epoch 142/200\n",
      "10000/10000 [==============================] - 0s 9us/step - loss: 0.0068\n",
      "Epoch 143/200\n",
      "10000/10000 [==============================] - 0s 9us/step - loss: 0.0062\n",
      "Epoch 144/200\n",
      "10000/10000 [==============================] - 0s 9us/step - loss: 0.0058\n",
      "Epoch 145/200\n",
      "10000/10000 [==============================] - 0s 9us/step - loss: 0.0059\n",
      "Epoch 146/200\n",
      "10000/10000 [==============================] - 0s 9us/step - loss: 0.0058\n",
      "Epoch 147/200\n",
      "10000/10000 [==============================] - 0s 9us/step - loss: 0.0060\n",
      "Epoch 148/200\n",
      "10000/10000 [==============================] - 0s 9us/step - loss: 0.0061\n",
      "Epoch 149/200\n",
      "10000/10000 [==============================] - 0s 9us/step - loss: 0.0062\n",
      "Epoch 150/200\n",
      "10000/10000 [==============================] - 0s 10us/step - loss: 0.0058\n",
      "Epoch 151/200\n",
      "10000/10000 [==============================] - 0s 9us/step - loss: 0.0056\n",
      "Epoch 152/200\n",
      "10000/10000 [==============================] - 0s 9us/step - loss: 0.0057\n",
      "Epoch 153/200\n",
      "10000/10000 [==============================] - 0s 9us/step - loss: 0.0057\n",
      "Epoch 154/200\n",
      "10000/10000 [==============================] - 0s 10us/step - loss: 0.0056\n",
      "Epoch 155/200\n",
      "10000/10000 [==============================] - 0s 9us/step - loss: 0.0071\n",
      "Epoch 156/200\n",
      "10000/10000 [==============================] - 0s 9us/step - loss: 0.0062\n",
      "Epoch 157/200\n",
      "10000/10000 [==============================] - 0s 9us/step - loss: 0.0073\n",
      "Epoch 158/200\n",
      "10000/10000 [==============================] - 0s 9us/step - loss: 0.0064\n",
      "Epoch 159/200\n",
      "10000/10000 [==============================] - 0s 9us/step - loss: 0.0069\n",
      "Epoch 160/200\n",
      "10000/10000 [==============================] - 0s 10us/step - loss: 0.0069\n",
      "Epoch 161/200\n",
      "10000/10000 [==============================] - 0s 9us/step - loss: 0.0058\n",
      "Epoch 162/200\n",
      "10000/10000 [==============================] - 0s 10us/step - loss: 0.0057\n",
      "Epoch 163/200\n",
      "10000/10000 [==============================] - 0s 10us/step - loss: 0.0057\n",
      "Epoch 164/200\n",
      "10000/10000 [==============================] - 0s 9us/step - loss: 0.0061\n",
      "Epoch 165/200\n",
      "10000/10000 [==============================] - 0s 9us/step - loss: 0.0068\n",
      "Epoch 166/200\n",
      "10000/10000 [==============================] - 0s 10us/step - loss: 0.0062\n",
      "Epoch 167/200\n",
      "10000/10000 [==============================] - 0s 9us/step - loss: 0.0065\n",
      "Epoch 168/200\n",
      "10000/10000 [==============================] - 0s 9us/step - loss: 0.0064\n",
      "Epoch 169/200\n",
      "10000/10000 [==============================] - 0s 10us/step - loss: 0.0072\n",
      "Epoch 170/200\n",
      "10000/10000 [==============================] - 0s 9us/step - loss: 0.0056\n",
      "Epoch 171/200\n",
      "10000/10000 [==============================] - 0s 10us/step - loss: 0.0055\n",
      "Epoch 172/200\n",
      "10000/10000 [==============================] - 0s 9us/step - loss: 0.0065\n",
      "Epoch 173/200\n",
      "10000/10000 [==============================] - 0s 9us/step - loss: 0.0062\n",
      "Epoch 174/200\n",
      "10000/10000 [==============================] - 0s 9us/step - loss: 0.0053\n",
      "Epoch 175/200\n",
      "10000/10000 [==============================] - 0s 9us/step - loss: 0.0055\n",
      "Epoch 176/200\n",
      "10000/10000 [==============================] - 0s 9us/step - loss: 0.0056\n",
      "Epoch 177/200\n",
      "10000/10000 [==============================] - 0s 9us/step - loss: 0.0080\n",
      "Epoch 178/200\n",
      "10000/10000 [==============================] - 0s 10us/step - loss: 0.0080\n",
      "Epoch 179/200\n",
      "10000/10000 [==============================] - 0s 9us/step - loss: 0.0059\n",
      "Epoch 180/200\n",
      "10000/10000 [==============================] - 0s 9us/step - loss: 0.0058\n",
      "Epoch 181/200\n",
      "10000/10000 [==============================] - 0s 9us/step - loss: 0.0064\n",
      "Epoch 182/200\n",
      "10000/10000 [==============================] - 0s 9us/step - loss: 0.0066\n",
      "Epoch 183/200\n",
      "10000/10000 [==============================] - 0s 9us/step - loss: 0.0057\n",
      "Epoch 184/200\n",
      "10000/10000 [==============================] - 0s 9us/step - loss: 0.0056\n",
      "Epoch 185/200\n",
      "10000/10000 [==============================] - 0s 9us/step - loss: 0.0056\n",
      "Epoch 186/200\n",
      "10000/10000 [==============================] - 0s 9us/step - loss: 0.0060\n",
      "Epoch 187/200\n"
     ]
    },
    {
     "name": "stdout",
     "output_type": "stream",
     "text": [
      "10000/10000 [==============================] - 0s 9us/step - loss: 0.0059\n",
      "Epoch 188/200\n",
      "10000/10000 [==============================] - 0s 10us/step - loss: 0.0054\n",
      "Epoch 189/200\n",
      "10000/10000 [==============================] - 0s 9us/step - loss: 0.0057\n",
      "Epoch 190/200\n",
      "10000/10000 [==============================] - 0s 8us/step - loss: 0.0072\n",
      "Epoch 191/200\n",
      "10000/10000 [==============================] - 0s 9us/step - loss: 0.0060\n",
      "Epoch 192/200\n",
      "10000/10000 [==============================] - 0s 9us/step - loss: 0.0057\n",
      "Epoch 193/200\n",
      "10000/10000 [==============================] - 0s 8us/step - loss: 0.0057\n",
      "Epoch 194/200\n",
      "10000/10000 [==============================] - 0s 9us/step - loss: 0.0056\n",
      "Epoch 195/200\n",
      "10000/10000 [==============================] - 0s 9us/step - loss: 0.0052\n",
      "Epoch 196/200\n",
      "10000/10000 [==============================] - 0s 9us/step - loss: 0.0054\n",
      "Epoch 197/200\n",
      "10000/10000 [==============================] - 0s 9us/step - loss: 0.0058\n",
      "Epoch 198/200\n",
      "10000/10000 [==============================] - 0s 9us/step - loss: 0.0059\n",
      "Epoch 199/200\n",
      "10000/10000 [==============================] - 0s 9us/step - loss: 0.0061\n",
      "Epoch 200/200\n",
      "10000/10000 [==============================] - 0s 9us/step - loss: 0.0074\n"
     ]
    }
   ],
   "source": [
    "results = model.fit(X_train, y_train, epochs=200, batch_size=100)"
   ]
  },
  {
   "cell_type": "markdown",
   "metadata": {},
   "source": [
    "Plot the loss function as a function of the training iteration number:"
   ]
  },
  {
   "cell_type": "code",
   "execution_count": 13,
   "metadata": {},
   "outputs": [
    {
     "data": {
      "text/plain": [
       "[<matplotlib.lines.Line2D at 0x11c00a518>]"
      ]
     },
     "execution_count": 13,
     "metadata": {},
     "output_type": "execute_result"
    },
    {
     "data": {
      "image/png": "[encoded data removed]",
      "text/plain": [
       "<Figure size 1008x360 with 1 Axes>"
      ]
     },
     "metadata": {},
     "output_type": "display_data"
    }
   ],
   "source": [
    "plt.plot(results.history['loss'])"
   ]
  },
  {
   "cell_type": "markdown",
   "metadata": {},
   "source": [
    "Create test data:"
   ]
  },
  {
   "cell_type": "code",
   "execution_count": 14,
   "metadata": {},
   "outputs": [],
   "source": [
    "X_test = numpy.random.randn(5000, 2)"
   ]
  },
  {
   "cell_type": "markdown",
   "metadata": {},
   "source": [
    "Use the trained neural network to make predictions from the test data:"
   ]
  },
  {
   "cell_type": "code",
   "execution_count": 15,
   "metadata": {},
   "outputs": [],
   "source": [
    "y_test = model.predict(X_test)"
   ]
  },
  {
   "cell_type": "code",
   "execution_count": 16,
   "metadata": {},
   "outputs": [
    {
     "data": {
      "text/plain": [
       "(5000, 2)"
      ]
     },
     "execution_count": 16,
     "metadata": {},
     "output_type": "execute_result"
    }
   ],
   "source": [
    "y_test.shape"
   ]
  },
  {
   "cell_type": "markdown",
   "metadata": {},
   "source": [
    "Let's see if it worked:"
   ]
  },
  {
   "cell_type": "code",
   "execution_count": 17,
   "metadata": {
    "tags": [
     "hide_input"
    ]
   },
   "outputs": [
    {
     "data": {
      "text/plain": [
       "<matplotlib.collections.PathCollection at 0x11be77d68>"
      ]
     },
     "execution_count": 17,
     "metadata": {},
     "output_type": "execute_result"
    },
    {
     "data": {
      "image/png": "[encoded data removed]",
      "text/plain": [
       "<Figure size 648x360 with 1 Axes>"
      ]
     },
     "metadata": {},
     "output_type": "display_data"
    }
   ],
   "source": [
    "plt.figure(figsize=(9, 5))\n",
    "plt.scatter(X_test[y_test[:, 0] > 0.5,0], X_test[y_test[:, 0] > 0.5,1], c='r', s=1)\n",
    "plt.scatter(X_test[y_test[:, 1] > 0.5,0], X_test[y_test[:, 1] > 0.5,1], c='b', s=1)"
   ]
  },
  {
   "cell_type": "markdown",
   "metadata": {},
   "source": [
    "[&larr; Back to Index](index.html)"
   ]
  }
 ],
 "metadata": {
  "celltoolbar": "Tags",
  "kernelspec": {
   "display_name": "Python 3",
   "language": "python",
   "name": "python3"
  },
  "language_info": {
   "codemirror_mode": {
    "name": "ipython",
    "version": 3
   },
   "file_extension": ".py",
   "mimetype": "text/x-python",
   "name": "python",
   "nbconvert_exporter": "python",
   "pygments_lexer": "ipython3",
   "version": "3.6.4"
  }
 },
 "nbformat": 4,
 "nbformat_minor": 1
}
